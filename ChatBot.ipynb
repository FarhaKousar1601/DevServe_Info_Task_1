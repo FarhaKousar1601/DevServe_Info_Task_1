{
  "cells": [
    {
      "cell_type": "markdown",
      "metadata": {
        "id": "view-in-github",
        "colab_type": "text"
      },
      "source": [
        "<a href=\"https://colab.research.google.com/github/FarhaKousar1601/DevServe_Info_Task_1/blob/main/ChatBot.ipynb\" target=\"_parent\"><img src=\"https://colab.research.google.com/assets/colab-badge.svg\" alt=\"Open In Colab\"/></a>"
      ]
    },
    {
      "cell_type": "code",
      "execution_count": null,
      "metadata": {
        "colab": {
          "base_uri": "https://localhost:8080/"
        },
        "id": "fD_maYAfIrnW",
        "outputId": "b35ae7d2-34e8-4b95-ffac-c1d4cf18478a"
      },
      "outputs": [
        {
          "output_type": "stream",
          "name": "stdout",
          "text": [
            "You: hello\n",
            "Chatbot: Hi there! How can I assist you today?\n",
            "You: thank you\n",
            "Chatbot: You're welcome! Is there anything else I can help you with?\n",
            "You: good bye\n",
            "Chatbot: Sorry, I don't understand. Can you rephrase that?\n",
            "You: goodbye\n",
            "Chatbot: Goodbye! Have a great day!\n",
            "You: joke\n",
            "Chatbot: Why did the scarecrow win an award? Because he was outstanding in his field!\n",
            "You: fact\n",
            "Chatbot: The shortest war in history lasted only 38 minutes between Britain and Zanzibar in 1896.\n",
            "You: thank you\n",
            "Chatbot: You're welcome! Is there anything else I can help you with?\n"
          ]
        }
      ],
      "source": [
        "import re\n",
        "import random\n",
        "\n",
        "def chatbot(user_input):\n",
        "    \"\"\"\n",
        "    This function simulates a simple chatbot using if-else statements.\n",
        "\n",
        "    Args:\n",
        "      user_input: A string representing the user's input.\n",
        "\n",
        "    Returns:\n",
        "      A string representing the chatbot's response.\n",
        "    \"\"\"\n",
        "\n",
        "    responses = {\n",
        "        \"hello\": \"Hi there! How can I assist you today?\",\n",
        "        \"how are you\": \"I am doing well, thank you! How can I help?\",\n",
        "        \"what is your name\": \"I am a simple chatbot. I don't have a name.\",\n",
        "        \"thank you\": \"You're welcome! Is there anything else I can help you with?\",\n",
        "        \"goodbye\": \"Goodbye! Have a great day!\",\n",
        "        \"math\": \"Sure, let me help with that!\",\n",
        "        \"tech\": \"I have knowledge about various technical topics.\",\n",
        "        \"joke\": get_joke(),\n",
        "        \"fact\": get_fact()\n",
        "    }\n",
        "\n",
        "    if user_input.lower() in responses:\n",
        "        return responses[user_input.lower()]\n",
        "    elif re.search(r\"\\bmath\\b\", user_input.lower()):\n",
        "        # Extract math operation from user input\n",
        "        match = re.search(r\"\\b(\\d+[\\+\\-\\*\\/]\\d+)\\b\", user_input)\n",
        "        if match:\n",
        "            math_expr = match.group(1)\n",
        "            try:\n",
        "                result = eval(math_expr)\n",
        "                return f\"The result of {math_expr} is {result}.\"\n",
        "            except ZeroDivisionError:\n",
        "                return \"Error: Division by zero.\"\n",
        "            except Exception as e:\n",
        "                return f\"Error: {str(e)}\"\n",
        "        else:\n",
        "            return \"Please provide a valid math operation.\"\n",
        "    elif re.search(r\"\\btech\\b\", user_input.lower()):\n",
        "        return responses[\"tech\"]\n",
        "    else:\n",
        "        return \"Sorry, I don't understand. Can you rephrase that?\"\n",
        "\n",
        "def get_joke():\n",
        "    \"\"\"\n",
        "    Returns a random joke from a predefined list.\n",
        "    \"\"\"\n",
        "    jokes = [\n",
        "        \"Why don't scientists trust atoms? Because they make up everything!\",\n",
        "        \"What do you call a fish wearing a crown? A king-fish!\",\n",
        "        \"Why did the scarecrow win an award? Because he was outstanding in his field!\"\n",
        "    ]\n",
        "    return random.choice(jokes)\n",
        "\n",
        "def get_fact():\n",
        "    \"\"\"\n",
        "    Returns a random fact from a predefined list.\n",
        "    \"\"\"\n",
        "    facts = [\n",
        "        \"A single cloud can weigh more than 1 million pounds!\",\n",
        "        \"The shortest war in history lasted only 38 minutes between Britain and Zanzibar in 1896.\",\n",
        "        \"The unicorn is the national animal of Scotland.\"\n",
        "    ]\n",
        "    return random.choice(facts)\n",
        "\n",
        "while True:\n",
        "    user_input = input(\"You: \")\n",
        "    response = chatbot(user_input)\n",
        "    print(\"Chatbot:\", response)\n",
        "    if user_input.lower() == \"exit\":\n",
        "        print(\"Chatbot: Goodbye!\")\n",
        "        break\n"
      ]
    }
  ],
  "metadata": {
    "colab": {
      "provenance": [],
      "authorship_tag": "ABX9TyOzR4wfE5+rFC+5BZULcKbm",
      "include_colab_link": true
    },
    "kernelspec": {
      "display_name": "Python 3",
      "name": "python3"
    },
    "language_info": {
      "name": "python"
    }
  },
  "nbformat": 4,
  "nbformat_minor": 0
}